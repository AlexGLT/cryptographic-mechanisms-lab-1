{
 "cells": [
  {
   "cell_type": "markdown",
   "metadata": {},
   "source": [
    "### Imports"
   ]
  },
  {
   "cell_type": "code",
   "execution_count": 1,
   "metadata": {},
   "outputs": [],
   "source": [
    "from Crypto.Random import get_random_bytes\n",
    "from Crypto.Cipher import AES\n",
    "from Crypto.Hash import SHA3_256\n",
    "from Crypto.PublicKey import DSA\n",
    "from Crypto.Signature import DSS\n",
    "from datetime import datetime, timedelta\n"
   ]
  },
  {
   "cell_type": "markdown",
   "metadata": {},
   "source": [
    "### Constants"
   ]
  },
  {
   "cell_type": "code",
   "execution_count": 2,
   "metadata": {},
   "outputs": [
    {
     "data": {
      "text/plain": [
       "{'low': 67108864, 'medium': 524288, 'big': 1}"
      ]
     },
     "execution_count": 2,
     "metadata": {},
     "output_type": "execute_result"
    }
   ],
   "source": [
    "key_size = 256 // 8\n",
    "salt_size = 128 // 8\n",
    "giga_byte = 1024 * 1024 * 1024\n",
    "dsa_key_size = 1024\n",
    "\n",
    "plain_text_sizes = {\n",
    "\t\"low\": 16,\n",
    "\t\"medium\": 2048,\n",
    "\t\"big\": giga_byte\n",
    "}\n",
    "\n",
    "blocks_count = {\n",
    "\t\"low\": giga_byte // plain_text_sizes[\"low\"],\n",
    "\t\"medium\": giga_byte // plain_text_sizes[\"medium\"],\n",
    "\t\"big\": giga_byte // plain_text_sizes[\"big\"]\n",
    "}\n",
    "\n",
    "blocks_count\n"
   ]
  },
  {
   "cell_type": "markdown",
   "metadata": {},
   "source": [
    "### Data generation"
   ]
  },
  {
   "cell_type": "code",
   "execution_count": 3,
   "metadata": {},
   "outputs": [],
   "source": [
    "def generate_data(key_size, salt_size, plain_text_block_size, blocks_count):\n",
    "\tkeys = [get_random_bytes(key_size) for i in range(blocks_count)]\n",
    "\tsalts = [get_random_bytes(salt_size) for i in range(blocks_count)]\n",
    "\ttexts = [get_random_bytes(plain_text_block_size) for i in range(blocks_count)]\n",
    "\n",
    "\treturn {'keys': keys, 'salts': salts, 'texts': texts}\n"
   ]
  },
  {
   "cell_type": "markdown",
   "metadata": {},
   "source": [
    "# Cryptoprimitives"
   ]
  },
  {
   "cell_type": "markdown",
   "metadata": {},
   "source": [
    "### AES (Symmetric cipher)"
   ]
  },
  {
   "cell_type": "code",
   "execution_count": 4,
   "metadata": {},
   "outputs": [],
   "source": [
    "def test_AES(data, blocks_count):\n",
    "\tfor index in range(blocks_count):\n",
    "\t\tcipher = AES.new(data['keys'][index], AES.MODE_CBC, iv=data['salts'][index])\n",
    "\t\tcipher.encrypt(data['texts'][index])\n"
   ]
  },
  {
   "cell_type": "markdown",
   "metadata": {},
   "source": [
    "### SHA-3 (Hash function)"
   ]
  },
  {
   "cell_type": "code",
   "execution_count": 5,
   "metadata": {},
   "outputs": [],
   "source": [
    "def test_SHA3(data, blocks_count):\n",
    "    for index in range(blocks_count):\n",
    "        hash_obj = SHA3_256.new()\n",
    "        hash_obj.update(data['texts'][index])\n"
   ]
  },
  {
   "cell_type": "markdown",
   "metadata": {},
   "source": [
    "### DSA (Public Key Signature)"
   ]
  },
  {
   "cell_type": "code",
   "execution_count": 6,
   "metadata": {},
   "outputs": [],
   "source": [
    "def test_DSA(data, blocks_count):\n",
    "    signer = DSS.new(data['dsa_key'], 'fips-186-3')\n",
    "\n",
    "    for index in range(blocks_count):\n",
    "        signer.sign(SHA3_256.new(data['texts'][index]))\n"
   ]
  },
  {
   "cell_type": "markdown",
   "metadata": {},
   "source": [
    "# Time"
   ]
  },
  {
   "cell_type": "code",
   "execution_count": 7,
   "metadata": {},
   "outputs": [],
   "source": [
    "iteration_count = 10\n",
    "\n",
    "def test_time_function(func, data, need_dsa_key):\n",
    "\tdef sub_function(*args):\n",
    "\t\tstart_time = datetime.now()\n",
    "\n",
    "\t\tif need_dsa_key == True:\n",
    "\t\t\tdata[\"dsa_key\"] = DSA.generate(dsa_key_size)\n",
    "\t\t\n",
    "\t\tfunc(data, *args)\n",
    "\t\t\n",
    "\t\treturn datetime.now() - start_time\n",
    "\n",
    "\treturn sub_function\n",
    "\n",
    "def test_block(func, data_size, need_dsa_key = False):\n",
    "\tdef sub_function(*args):\n",
    "\n",
    "\t\ttime = timedelta(0)\n",
    "\t\t\t\n",
    "\t\tfor i in range(iteration_count):\n",
    "\t\t\tdata = generate_data(key_size, salt_size, plain_text_sizes[data_size], blocks_count[data_size])\n",
    "\n",
    "\t\t\ttime += test_time_function(func, data, need_dsa_key)(*args)\n",
    "\t\t\n",
    "\t\tprint(f'{time.total_seconds() * 100}ms')\n",
    "\n",
    "\treturn sub_function\n"
   ]
  },
  {
   "cell_type": "markdown",
   "metadata": {},
   "source": [
    "## AES test"
   ]
  },
  {
   "cell_type": "code",
   "execution_count": 8,
   "metadata": {},
   "outputs": [
    {
     "name": "stdout",
     "output_type": "stream",
     "text": [
      "1904.0337000000002ms\n"
     ]
    }
   ],
   "source": [
    "test_block(test_AES, \"big\")(blocks_count[\"big\"])\n"
   ]
  },
  {
   "cell_type": "code",
   "execution_count": 9,
   "metadata": {},
   "outputs": [
    {
     "name": "stdout",
     "output_type": "stream",
     "text": [
      "5997.5101ms\n"
     ]
    }
   ],
   "source": [
    "test_block(test_AES, \"medium\")(blocks_count[\"medium\"])\n"
   ]
  },
  {
   "cell_type": "code",
   "execution_count": 10,
   "metadata": {},
   "outputs": [
    {
     "name": "stdout",
     "output_type": "stream",
     "text": [
      "551916.578ms\n"
     ]
    }
   ],
   "source": [
    "test_block(test_AES, \"low\")(blocks_count[\"low\"])\n"
   ]
  },
  {
   "cell_type": "markdown",
   "metadata": {},
   "source": [
    "## SHA-3 test"
   ]
  },
  {
   "cell_type": "code",
   "execution_count": 11,
   "metadata": {},
   "outputs": [
    {
     "name": "stdout",
     "output_type": "stream",
     "text": [
      "2383.0948ms\n"
     ]
    }
   ],
   "source": [
    "test_block(test_SHA3, \"big\")(blocks_count[\"big\"])\n"
   ]
  },
  {
   "cell_type": "code",
   "execution_count": 12,
   "metadata": {},
   "outputs": [
    {
     "name": "stdout",
     "output_type": "stream",
     "text": [
      "3862.8647ms\n"
     ]
    }
   ],
   "source": [
    "test_block(test_SHA3, \"medium\")(blocks_count[\"medium\"])\n"
   ]
  },
  {
   "cell_type": "code",
   "execution_count": 13,
   "metadata": {},
   "outputs": [
    {
     "name": "stdout",
     "output_type": "stream",
     "text": [
      "180097.6085ms\n"
     ]
    }
   ],
   "source": [
    "test_block(test_SHA3, \"low\")(blocks_count[\"low\"])\n"
   ]
  },
  {
   "cell_type": "markdown",
   "metadata": {},
   "source": [
    "## DSA test"
   ]
  },
  {
   "cell_type": "code",
   "execution_count": 14,
   "metadata": {},
   "outputs": [
    {
     "name": "stdout",
     "output_type": "stream",
     "text": [
      "2687.4157ms\n"
     ]
    }
   ],
   "source": [
    "test_block(test_DSA, \"big\", True)(blocks_count[\"big\"])\n"
   ]
  },
  {
   "cell_type": "code",
   "execution_count": 15,
   "metadata": {},
   "outputs": [
    {
     "name": "stdout",
     "output_type": "stream",
     "text": [
      "155213.4733ms\n"
     ]
    }
   ],
   "source": [
    "test_block(test_DSA, \"medium\", True)(blocks_count[\"medium\"])\n"
   ]
  },
  {
   "cell_type": "code",
   "execution_count": 16,
   "metadata": {},
   "outputs": [],
   "source": [
    "test_block(test_DSA, \"low\", True)(blocks_count[\"low\"])\n"
   ]
  }
 ],
 "metadata": {
  "kernelspec": {
   "display_name": "Python 3.10.7 64-bit",
   "language": "python",
   "name": "python3"
  },
  "language_info": {
   "codemirror_mode": {
    "name": "ipython",
    "version": 3
   },
   "file_extension": ".py",
   "mimetype": "text/x-python",
   "name": "python",
   "nbconvert_exporter": "python",
   "pygments_lexer": "ipython3",
   "version": "3.10.7"
  },
  "orig_nbformat": 4,
  "vscode": {
   "interpreter": {
    "hash": "369f2c481f4da34e4445cda3fffd2e751bd1c4d706f27375911949ba6bb62e1c"
   }
  }
 },
 "nbformat": 4,
 "nbformat_minor": 2
}
